{
  "cells": [
    {
      "cell_type": "markdown",
      "metadata": {
        "id": "view-in-github",
        "colab_type": "text"
      },
      "source": [
        "<a href=\"https://colab.research.google.com/github/rwh9609/JOGL/blob/master/content/01_algorithms/01_design/01_primes.ipynb\" target=\"_parent\"><img src=\"https://colab.research.google.com/assets/colab-badge.svg\" alt=\"Open In Colab\"/></a>"
      ]
    },
    {
      "cell_type": "markdown",
      "id": "949e9d98",
      "metadata": {
        "id": "949e9d98"
      },
      "source": [
        "# Computing prime numbers\n",
        "\n",
        "A prime number is an integer greater than 1 that is not a product of two smaller integer values. I.e it can only be divided by itself and one.  As an example, 2 is a prime number, but 4 is not.\n",
        "\n",
        "## Computing prime numbers up to $n$\n",
        "\n",
        "A naive implementation of an algorithm to compute the prime numbers up to $n$ is **trial division** where each number between 2 and $n$ is checked for primality.  This works, but it computationally demanding even for small $n$.\n",
        "\n",
        "> We won't go higher than $n$ = 100 this here as its just too painfully slow"
      ]
    },
    {
      "cell_type": "code",
      "execution_count": 1,
      "id": "7bd7c3fa",
      "metadata": {
        "id": "7bd7c3fa"
      },
      "outputs": [],
      "source": [
        "def primes_trial_division(n):\n",
        "    '''\n",
        "    Compute primes up to n using a trial\n",
        "    division approach.\n",
        "    '''\n",
        "    primes = []\n",
        "    for i in range(2, n):\n",
        "        found = False\n",
        "        for j in range(2, i):\n",
        "            found = False\n",
        "            if i % j == 0:\n",
        "                found = True\n",
        "                break\n",
        "        if not found:\n",
        "            primes.append(i)\n",
        "    return primes"
      ]
    },
    {
      "cell_type": "code",
      "execution_count": 2,
      "id": "ce173338",
      "metadata": {
        "id": "ce173338",
        "outputId": "a7ed2c67-643e-4e09-a1b8-dfbe992ff8d2",
        "colab": {
          "base_uri": "https://localhost:8080/"
        }
      },
      "outputs": [
        {
          "output_type": "execute_result",
          "data": {
            "text/plain": [
              "25"
            ]
          },
          "metadata": {},
          "execution_count": 2
        }
      ],
      "source": [
        "len(primes_trial_division(100))"
      ]
    },
    {
      "cell_type": "markdown",
      "id": "fb183187",
      "metadata": {
        "id": "fb183187"
      },
      "source": [
        "# A more efficient algorithm\n",
        "\n",
        "A more efficient algorithm design, at least for relatively smally $n$ (e.g. < 1 million), is the **Sieve of Eratosthenes**.  It works as follows:\n",
        "\n",
        "Consider the primes up to 10. First write out a list of number 2 to 10. Here we'll represent this as a python list called `candidates`.  As we work out which numbers are not primes we will cross (sieve) them out. For simplicity of illustration we will store those in a list called `crossed_out`\n",
        "\n",
        "```python\n",
        "candidates = [2, 3, 4, 5, 6, 7, 8, 9, 10]\n",
        "crossed_out = []\n",
        "```\n",
        "The first candidate number in the list is 2. The Sieve of Eratosthenes algorithm crosses out every 2nd number in the list after 2 by counting up from 2 in increments of 2:\n",
        "\n",
        "```python\n",
        "candidates = [2, 3, 4, 5, 6, 7, 8, 9, 10]\n",
        "crossed_out = [4, 6, 8, 10]\n",
        "```\n",
        "The next number in `candidates` after 2 **that has not been crossed out** is 3. We now cross out every 3rd number in the list by counting up from 3 increments of 3.  \n",
        "\n",
        "```python\n",
        "candidates = [2, 3, 4, 5, 6, 7, 8, 9, 10]\n",
        "crossed_out = [4, 6, 8, 10, 9]\n",
        "```\n",
        "\n",
        "This is the basic process that is repeated in each iteration of the Sieve of Eratosthenes.  What might not be obvious is that we do not need to traverse every item in `candidates`, but instead only iterate up to the $\\sqrt{n}$.  At the end of the algorithm the numbers that have not been crossed out are the prime numbers between 2 and $n$  \n",
        "\n",
        "```python\n",
        "primes = [i for i in candidates if i not in crossed_off]  \n",
        "```\n",
        "\n",
        "Let's implement the sieve in standard python.  Our first implementation will be fairly naive. We will look at its inefficiencies and think through how we can improve on them.  We'll need some test data first.  The dict `n_primes` holds the number of primes up to a value of n increasing by a factor of 10 each time.  For example, there are 25 primes numbers in the first 100 natural numbers."
      ]
    },
    {
      "cell_type": "code",
      "execution_count": null,
      "id": "22c93213",
      "metadata": {
        "id": "22c93213"
      },
      "outputs": [],
      "source": [
        "n_primes = {10 : 4,\n",
        "            100 : 25,\n",
        "            1000 : 168,\n",
        "            10000 : 1229,\n",
        "            100000 : 9592,\n",
        "            1000000 : 78498,\n",
        "            10000000 : 664579}"
      ]
    },
    {
      "cell_type": "markdown",
      "id": "3a1e0e42",
      "metadata": {
        "id": "3a1e0e42"
      },
      "source": [
        "## A naive implementation\n",
        "\n",
        "The function below `prime_sieve` is a naive implementation of this algorithm.  It makes use of two list data structures that we used above when working through the sieve's logic.\n",
        "* `candidates`: a simple sequence of numbers 0 to `n`;\n",
        "* `crossed_out` a list of numbers sieved.  \n",
        "\n",
        "Although a naive implementation its not a bad first draft of a function: its readable and works.\n",
        "\n",
        "The implementation and test below provides expected results and for it takes around 10ms (at least on my machine) to compute all the prime numbers up to 1000.  "
      ]
    },
    {
      "cell_type": "code",
      "execution_count": null,
      "id": "6d48c4ea",
      "metadata": {
        "id": "6d48c4ea"
      },
      "outputs": [],
      "source": [
        "import math\n",
        "\n",
        "def prime_sieve(n):\n",
        "    '''\n",
        "    Compute the prime numbers between 1 and n.\n",
        "    Naive implementation of the Sieve of Eratosthenes.\n",
        "\n",
        "    Parameters:\n",
        "    ----------\n",
        "    n: int\n",
        "        The upper limit\n",
        "\n",
        "    Returns:\n",
        "    -------\n",
        "    list\n",
        "        a list of primes\n",
        "    '''\n",
        "    # a list of candidate numbers to sieve\n",
        "    candidates = [i for i in range(n + 1)]\n",
        "    # a list of numbered eliminated from consideration\n",
        "    crossed_out = [0, 1]\n",
        "    # maximum iterations required\n",
        "    limit = int(math.sqrt(n)) + 1\n",
        "\n",
        "    for i in range(2, limit):\n",
        "         for j in range(i+i, n+1, i):\n",
        "                if not candidates[j] in crossed_out:\n",
        "                    crossed_out.append(candidates[j])\n",
        "\n",
        "    return [i for i in candidates if i not in crossed_out]"
      ]
    },
    {
      "cell_type": "code",
      "execution_count": null,
      "id": "467b6354",
      "metadata": {
        "id": "467b6354",
        "outputId": "e92adf11-6a2b-4f4e-8c64-4db9290473e7"
      },
      "outputs": [
        {
          "data": {
            "text/plain": [
              "[2, 3, 5, 7]"
            ]
          },
          "execution_count": 5,
          "metadata": {},
          "output_type": "execute_result"
        }
      ],
      "source": [
        "prime_sieve(10)"
      ]
    },
    {
      "cell_type": "code",
      "execution_count": null,
      "id": "9b031f82",
      "metadata": {
        "id": "9b031f82",
        "outputId": "5d7aba16-6da5-46b3-a794-b00ff1a54817"
      },
      "outputs": [
        {
          "name": "stdout",
          "output_type": "stream",
          "text": [
            "True\n",
            "True\n"
          ]
        }
      ],
      "source": [
        "print(len(prime_sieve(100)) == n_primes[100])\n",
        "print(len(prime_sieve(1_000)) == n_primes[1_000])"
      ]
    },
    {
      "cell_type": "code",
      "execution_count": null,
      "id": "f8c80da0",
      "metadata": {
        "id": "f8c80da0",
        "outputId": "b70b97d0-896d-4f43-a996-adb9469405fd"
      },
      "outputs": [
        {
          "name": "stdout",
          "output_type": "stream",
          "text": [
            "20.8 ms ± 542 µs per loop (mean ± std. dev. of 7 runs, 10 loops each)\n"
          ]
        }
      ],
      "source": [
        "%timeit (prime_sieve(1_000))"
      ]
    }
  ],
  "metadata": {
    "kernelspec": {
      "display_name": "Python 3 (ipykernel)",
      "language": "python",
      "name": "python3"
    },
    "language_info": {
      "codemirror_mode": {
        "name": "ipython",
        "version": 3
      },
      "file_extension": ".py",
      "mimetype": "text/x-python",
      "name": "python",
      "nbconvert_exporter": "python",
      "pygments_lexer": "ipython3",
      "version": "3.8.8"
    },
    "colab": {
      "provenance": [],
      "include_colab_link": true
    }
  },
  "nbformat": 4,
  "nbformat_minor": 5
}